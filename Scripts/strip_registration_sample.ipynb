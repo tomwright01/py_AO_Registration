{
 "cells": [
  {
   "cell_type": "code",
   "execution_count": 1,
   "metadata": {
    "collapsed": true
   },
   "outputs": [],
   "source": [
    "%matplotlib inline"
   ]
  },
  {
   "cell_type": "code",
   "execution_count": 2,
   "metadata": {
    "collapsed": true
   },
   "outputs": [],
   "source": [
    "import matplotlib.pyplot as plt\n",
    "import numpy as np\n",
    "import scipy.fftpack\n",
    "import scipy.interpolate\n",
    "import scipy.ndimage\n",
    "import scipy.signal"
   ]
  },
  {
   "cell_type": "code",
   "execution_count": 3,
   "metadata": {
    "collapsed": true
   },
   "outputs": [],
   "source": [
    "data = np.load('../Data/2frames.npz')\n",
    "frame1 = data['data'][:,:,0]\n",
    "frame2 = data['data'][:,:,1]"
   ]
  },
  {
   "cell_type": "code",
   "execution_count": 4,
   "metadata": {
    "collapsed": false
   },
   "outputs": [
    {
     "name": "stdout",
     "output_type": "stream",
     "text": [
      "[    0.    16.    32.    48.    64.    80.    96.   112.   128.   144.\n",
      "   160.   176.   192.   208.   224.   240.   256.   272.   288.   304.\n",
      "   320.   336.   352.   368.   384.   400.   416.   432.   448.   464.\n",
      "   480.   496.   512.   528.   544.   560.   576.   592.   608.   624.\n",
      "   640.   656.   672.   688.   704.   720.   736.   752.   768.   784.\n",
      "   800.   816.   832.   848.   864.   880.   896.   912.   928.   944.\n",
      "   960.   976.   992.  1008.  1024.]\n"
     ]
    }
   ],
   "source": [
    "strip_idx = np.linspace(start=0,stop=frame1.shape[0],num=65)\n",
    "print strip_idx"
   ]
  },
  {
   "cell_type": "code",
   "execution_count": 5,
   "metadata": {
    "collapsed": false
   },
   "outputs": [
    {
     "name": "stdout",
     "output_type": "stream",
     "text": [
      "0.0\n",
      "30\n"
     ]
    }
   ],
   "source": [
    "idx = 0\n",
    "t_pad = b_pad = max_pad = 30\n",
    "t_line = strip_idx[idx] - max_pad\n",
    "if t_line < 0:\n",
    "    t_pad = max_pad - (max_pad-strip_idx[idx])\n",
    "    \n",
    "\n",
    "b_line = strip_idx[idx+1] + max_pad\n",
    "b_pad = max_pad\n",
    "if b_line > frame1.shape[0]:\n",
    "    b_pad = max_pad - (b_line - frame1.shape[0])\n",
    "\n",
    "print t_pad\n",
    "print b_pad\n"
   ]
  },
  {
   "cell_type": "code",
   "execution_count": 6,
   "metadata": {
    "collapsed": true
   },
   "outputs": [],
   "source": [
    "strip = frame1[strip_idx[idx]:strip_idx[idx+1],100:-100] #First 16 rows of frame 0\n",
    "template = frame2[strip_idx[idx] - t_pad:strip_idx[idx+1]+b_pad,:] #First 46 rows of fame 0 - no padding"
   ]
  },
  {
   "cell_type": "code",
   "execution_count": 7,
   "metadata": {
    "collapsed": false
   },
   "outputs": [
    {
     "name": "stdout",
     "output_type": "stream",
     "text": [
      "strip top:0.0\n",
      "strip bottom:16.0\n",
      "template top:0.0\n",
      "template bottom:46.0\n"
     ]
    }
   ],
   "source": [
    "print 'strip top:{0}'.format(strip_idx[idx])\n",
    "print 'strip bottom:{0}'.format(strip_idx[idx+1])\n",
    "print 'template top:{0}'.format(strip_idx[idx]-t_pad)\n",
    "print 'template bottom:{0}'.format(strip_idx[idx+1]+b_pad)"
   ]
  },
  {
   "cell_type": "code",
   "execution_count": 8,
   "metadata": {
    "collapsed": false
   },
   "outputs": [
    {
     "name": "stdout",
     "output_type": "stream",
     "text": [
      "(16, 800)\n",
      "(46, 1000)\n"
     ]
    }
   ],
   "source": [
    "print strip.shape\n",
    "print template.shape"
   ]
  },
  {
   "cell_type": "code",
   "execution_count": 9,
   "metadata": {
    "collapsed": false
   },
   "outputs": [
    {
     "data": {
      "text/plain": [
       "<matplotlib.image.AxesImage at 0x7fb4e809cb10>"
      ]
     },
     "execution_count": 9,
     "metadata": {},
     "output_type": "execute_result"
    },
    {
     "data": {
      "image/png": "[encoded data removed]",
      "text/plain": [
       "<matplotlib.figure.Figure at 0x7fb4e8561a10>"
      ]
     },
     "metadata": {},
     "output_type": "display_data"
    }
   ],
   "source": [
    "plt.subplot(211)\n",
    "plt.imshow(strip,cmap=plt.get_cmap('gray'))\n",
    "\n",
    "plt.subplot(212)\n",
    "plt.imshow(template,cmap=plt.get_cmap('gray'))"
   ]
  },
  {
   "cell_type": "code",
   "execution_count": 10,
   "metadata": {
    "collapsed": true
   },
   "outputs": [],
   "source": [
    "strip = strip - strip.mean()\n",
    "template = template - template.mean()"
   ]
  },
  {
   "cell_type": "code",
   "execution_count": 11,
   "metadata": {
    "collapsed": false
   },
   "outputs": [],
   "source": [
    "corr = scipy.signal.correlate2d(template,strip,mode='same')\n",
    "y,x = np.unravel_index(np.argmax(corr),corr.shape)"
   ]
  },
  {
   "cell_type": "code",
   "execution_count": 12,
   "metadata": {
    "collapsed": false
   },
   "outputs": [
    {
     "name": "stdout",
     "output_type": "stream",
     "text": [
      "7 499\n"
     ]
    }
   ],
   "source": [
    "print y,x"
   ]
  },
  {
   "cell_type": "code",
   "execution_count": 13,
   "metadata": {
    "collapsed": false
   },
   "outputs": [
    {
     "data": {
      "text/plain": [
       "<matplotlib.image.AxesImage at 0x7fb4e7f3bf10>"
      ]
     },
     "execution_count": 13,
     "metadata": {},
     "output_type": "execute_result"
    },
    {
     "data": {
      "image/png": "[encoded data removed]",
      "text/plain": [
       "<matplotlib.figure.Figure at 0x7fb4e7fcfe10>"
      ]
     },
     "metadata": {},
     "output_type": "display_data"
    }
   ],
   "source": [
    "plt.subplot(211)\n",
    "plt.imshow(strip,cmap=plt.get_cmap('gray'))\n",
    "\n",
    "plt.subplot(212)\n",
    "plt.imshow(template,cmap=plt.get_cmap('gray'))"
   ]
  },
  {
   "cell_type": "code",
   "execution_count": 14,
   "metadata": {
    "collapsed": false
   },
   "outputs": [
    {
     "name": "stdout",
     "output_type": "stream",
     "text": [
      "-1.0\n"
     ]
    }
   ],
   "source": [
    "shift_y = y - t_pad - ((template.shape[0] - (t_pad+b_pad))/2)\n",
    "print shift_y"
   ]
  },
  {
   "cell_type": "code",
   "execution_count": 15,
   "metadata": {
    "collapsed": false
   },
   "outputs": [
    {
     "name": "stdout",
     "output_type": "stream",
     "text": [
      "8.0\n"
     ]
    }
   ],
   "source": [
    "strip_center= (strip_idx[idx+1] - strip_idx[idx])/2\n",
    "print strip_center"
   ]
  },
  {
   "cell_type": "code",
   "execution_count": null,
   "metadata": {
    "collapsed": true
   },
   "outputs": [],
   "source": []
  }
 ],
 "metadata": {
  "kernelspec": {
   "display_name": "Python 2",
   "language": "python",
   "name": "python2"
  },
  "language_info": {
   "codemirror_mode": {
    "name": "ipython",
    "version": 2
   },
   "file_extension": ".py",
   "mimetype": "text/x-python",
   "name": "python",
   "nbconvert_exporter": "python",
   "pygments_lexer": "ipython2",
   "version": "2.7.9"
  }
 },
 "nbformat": 4,
 "nbformat_minor": 0
}
